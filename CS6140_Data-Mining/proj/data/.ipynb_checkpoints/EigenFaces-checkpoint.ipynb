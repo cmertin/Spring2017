{
 "cells": [
  {
   "cell_type": "markdown",
   "metadata": {},
   "source": [
    "Paper: https://www.cs.ucsb.edu/~mturk/Papers/mturk-CVPR91.pdf\n",
    "\n",
    "They key concept is you project faces into a higher dimensional space and then measure distances between them in that space.\n",
    "\n",
    "I'm quoting from this document (looks like an assignment for a class):\n",
    "\n",
    "http://www.umiacs.umd.edu/~knkim/KG_VISA/PCA/FaceRecog_PCA_Kim.pdf\n",
    "\n",
    "\"PCA computes the basis of a space which is represented by its training vectors. These basis vectors, actually eigenvectors, computed by PCA are in the direction of the largest variance of the training vectors. As it has been said earlier, we call them eigenfaces.\n",
    "\n",
    "Each eigenface can be viewed a feature. When a particular face is projected onto the face space, its vector into the face space describe the importance of each of those features in the face. The face is expressed in the face space by its eigenface coeﬃcients (or weights). We can handle a large input vector, facial image, only by taking its small weight vector in the face space. This means that we can reconstruct the original face with some error, since the dimensionality of the image space is much larger than that of face space.\n",
    "\n",
    "In this report, let’s consider face identiﬁcation only. Each face in the training set is transformed into the face space and its components are stored in memory. The face space has to be populated with these known faces. An input face is given to the system, and then it is projected onto the face space. The system computes its distance from all the stored faces.\""
   ]
  },
  {
   "cell_type": "code",
   "execution_count": 1,
   "metadata": {
    "collapsed": true
   },
   "outputs": [],
   "source": [
    "%matplotlib inline\n",
    "from scipy.misc import *\n",
    "from scipy import linalg\n",
    "import glob\n",
    "import numpy as np\n",
    "import os\n",
    "import pdb\n",
    "import matplotlib.pyplot as plt"
   ]
  },
  {
   "cell_type": "code",
   "execution_count": 2,
   "metadata": {
    "collapsed": true
   },
   "outputs": [],
   "source": [
    "# Load the images\n",
    "def Load_Images(path):\n",
    "    files = glob.glob(path + \"*.jpg\")\n",
    "    imgs = np.array([imread(i, True).flatten() for i in files])\n",
    "    return imgs"
   ]
  },
  {
   "cell_type": "code",
   "execution_count": 3,
   "metadata": {
    "collapsed": true
   },
   "outputs": [],
   "source": [
    "# Run PCA on the input data\n",
    "# Output: Eigenfaces, weights, mu\n",
    "def PCA(data):\n",
    "    mu = np.mean(data, 0)\n",
    "    \n",
    "    # Mean adjust the data\n",
    "    data_mu = data - mu\n",
    "    \n",
    "    # Covariance Matrix\n",
    "    #cov = np.dot(data_mu.T, data_mu)\n",
    "    \n",
    "    # Run SVD\n",
    "    e_faces, sigma, v = linalg.svd(data_mu.T, full_matrices=False)\n",
    "    \n",
    "    # Compute weights for the image\n",
    "    weights = np.dot(data_mu, e_faces)\n",
    "    return e_faces, weights, mu, sigma"
   ]
  },
  {
   "cell_type": "code",
   "execution_count": 4,
   "metadata": {
    "collapsed": true
   },
   "outputs": [],
   "source": [
    "# Reconstruct image with 'k' given number of principal components\n",
    "def Reconstruct(img_idx, e_faces, weights, mu, k):\n",
    "    # Dot weights with eigenfaces and add to mean\n",
    "    reconstruct = mu + np.dot(weights[img_idx, 0:k], e_faces[:, 0:k].T)\n",
    "    return reconstruct"
   ]
  },
  {
   "cell_type": "code",
   "execution_count": 5,
   "metadata": {
    "collapsed": true
   },
   "outputs": [],
   "source": [
    "def Save_Image(path, img_id, img_dims, data):\n",
    "    file_dir = path\n",
    "    if not os.path.exists(file_dir):\n",
    "        os.makedirs(file_dir)\n",
    "    imsave(file_dir + \"image_\" + str(img_id) + \".jpg\", data.reshape(img_dims))"
   ]
  },
  {
   "cell_type": "code",
   "execution_count": 21,
   "metadata": {
    "collapsed": false
   },
   "outputs": [],
   "source": [
    "def Min_K(eigenvalues, p=0.60):\n",
    "    total = sum(eigenvalues)\n",
    "    temp_tot = total\n",
    "    idx = -1\n",
    "    while temp_tot > total * p:\n",
    "        temp_tot = sum(eigenvalues[:idx])\n",
    "        idx = idx - 1\n",
    "    return len(eigenvalues) + idx"
   ]
  },
  {
   "cell_type": "code",
   "execution_count": 7,
   "metadata": {
    "collapsed": true
   },
   "outputs": [],
   "source": [
    "city = \"Provo\""
   ]
  },
  {
   "cell_type": "code",
   "execution_count": 8,
   "metadata": {
    "collapsed": true
   },
   "outputs": [],
   "source": [
    "in_files = city + \"_Affine/\""
   ]
  },
  {
   "cell_type": "code",
   "execution_count": 9,
   "metadata": {
    "collapsed": true
   },
   "outputs": [],
   "source": [
    "out_files = city + \"_Affine_Out/\""
   ]
  },
  {
   "cell_type": "code",
   "execution_count": 10,
   "metadata": {
    "collapsed": true
   },
   "outputs": [],
   "source": [
    "dims = [200, 200]"
   ]
  },
  {
   "cell_type": "code",
   "execution_count": 11,
   "metadata": {
    "collapsed": true
   },
   "outputs": [],
   "source": [
    "data = Load_Images(in_files)"
   ]
  },
  {
   "cell_type": "code",
   "execution_count": 12,
   "metadata": {
    "collapsed": false
   },
   "outputs": [],
   "source": [
    "e_faces, weights, mu, sigma = PCA(data)"
   ]
  },
  {
   "cell_type": "code",
   "execution_count": 13,
   "metadata": {
    "collapsed": false
   },
   "outputs": [],
   "source": [
    "# Save the mean photo\n",
    "imsave(out_files + \"mean.jpg\", mu.reshape(dims))"
   ]
  },
  {
   "cell_type": "code",
   "execution_count": 14,
   "metadata": {
    "collapsed": false,
    "scrolled": true
   },
   "outputs": [
    {
     "data": {
      "text/plain": [
       "(40000,)"
      ]
     },
     "execution_count": 14,
     "metadata": {},
     "output_type": "execute_result"
    }
   ],
   "source": [
    "mu.shape"
   ]
  },
  {
   "cell_type": "code",
   "execution_count": 15,
   "metadata": {
    "collapsed": false
   },
   "outputs": [
    {
     "data": {
      "text/plain": [
       "[<matplotlib.lines.Line2D at 0x7fc2a0c3b358>]"
      ]
     },
     "execution_count": 15,
     "metadata": {},
     "output_type": "execute_result"
    },
    {
     "data": {
      "image/png": "[encoded data removed]",
      "text/plain": [
       "<matplotlib.figure.Figure at 0x7fc2a0cb7a90>"
      ]
     },
     "metadata": {},
     "output_type": "display_data"
    }
   ],
   "source": [
    "plt.plot(sigma)"
   ]
  },
  {
   "cell_type": "code",
   "execution_count": 24,
   "metadata": {
    "collapsed": false
   },
   "outputs": [],
   "source": [
    "# The first k-eigenvalues that make up p-power of the features\n",
    "min_k = Min_K(sigma)"
   ]
  },
  {
   "cell_type": "code",
   "execution_count": null,
   "metadata": {
    "collapsed": true
   },
   "outputs": [],
   "source": []
  }
 ],
 "metadata": {
  "anaconda-cloud": {},
  "kernelspec": {
   "display_name": "Python [default]",
   "language": "python",
   "name": "python3"
  },
  "language_info": {
   "codemirror_mode": {
    "name": "ipython",
    "version": 3
   },
   "file_extension": ".py",
   "mimetype": "text/x-python",
   "name": "python",
   "nbconvert_exporter": "python",
   "pygments_lexer": "ipython3",
   "version": "3.5.2"
  }
 },
 "nbformat": 4,
 "nbformat_minor": 1
}
